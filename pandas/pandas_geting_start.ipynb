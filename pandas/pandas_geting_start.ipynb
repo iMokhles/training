{
 "cells": [
  {
   "cell_type": "code",
   "execution_count": 51,
   "metadata": {},
   "outputs": [],
   "source": [
    "import pandas as pd\n",
    "sales = pd.read_csv(r'.\\out\\sales_data_cleaned.csv', parse_dates = True)\n"
   ]
  },
  {
   "cell_type": "code",
   "execution_count": 52,
   "metadata": {},
   "outputs": [
    {
     "data": {
      "text/plain": [
       "Index(['Unnamed: 0', 'Order ID', 'Product', 'Quantity Ordered', 'Price Each',\n",
       "       'Order Date', 'Purchase Address', 'Month', 'Total Sales', 'City'],\n",
       "      dtype='object')"
      ]
     },
     "execution_count": 52,
     "metadata": {},
     "output_type": "execute_result"
    }
   ],
   "source": [
    "sales.columns\n"
   ]
  },
  {
   "cell_type": "code",
   "execution_count": 24,
   "metadata": {},
   "outputs": [
    {
     "data": {
      "text/plain": [
       "(144732, 2)"
      ]
     },
     "execution_count": 24,
     "metadata": {},
     "output_type": "execute_result"
    }
   ],
   "source": [
    "# sales[sales['Price Each']>10]\n",
    "sales_1 = sales[['Product','Price Each']][sales['Price Each']>10]\n",
    "# sales_1[sales_1['Price Each']>10]\n",
    "sales_1.shape"
   ]
  },
  {
   "cell_type": "code",
   "execution_count": null,
   "metadata": {},
   "outputs": [],
   "source": [
    "s1 = sales[sales['Month'].isin(['2019-04', '2019-09'])]\n",
    "s1"
   ]
  },
  {
   "cell_type": "code",
   "execution_count": null,
   "metadata": {},
   "outputs": [],
   "source": [
    "sales[(sales['Month'].isin(['2019-04', '2019-09'])) & (sales['Price Each']> 100) ]\n"
   ]
  },
  {
   "cell_type": "code",
   "execution_count": null,
   "metadata": {},
   "outputs": [],
   "source": [
    "sales.loc[(sales['Month'].isin(['2019-04', '2019-09'])) & (sales['Price Each']> 100), ['Order ID'] ]"
   ]
  },
  {
   "cell_type": "code",
   "execution_count": null,
   "metadata": {},
   "outputs": [],
   "source": [
    "sales.plot()"
   ]
  },
  {
   "cell_type": "code",
   "execution_count": 49,
   "metadata": {},
   "outputs": [
    {
     "data": {
      "text/plain": [
       "<AxesSubplot:xlabel='ODate'>"
      ]
     },
     "execution_count": 49,
     "metadata": {},
     "output_type": "execute_result"
    },
    {
     "data": {
      "image/png": "[encoded data removed]",
      "text/plain": [
       "<Figure size 432x288 with 1 Axes>"
      ]
     },
     "metadata": {
      "needs_background": "light"
     },
     "output_type": "display_data"
    }
   ],
   "source": [
    "# sales.head()\n",
    "# sales['Order Date']\n",
    "sales['Order Date'] = pd.to_datetime(sales['Order Date'])\n",
    "# sales['Order Date'].dt.date\n",
    "sales['ODate'] = sales['Order Date'].dt.date\n",
    "s1= sales[['ODate','Total Sales']].groupby('ODate').sum()\n",
    "# s1.head(10)\n",
    "s1.plot()"
   ]
  },
  {
   "cell_type": "code",
   "execution_count": 71,
   "metadata": {},
   "outputs": [
    {
     "ename": "SyntaxError",
     "evalue": "positional argument follows keyword argument (Temp/ipykernel_14416/2044011299.py, line 5)",
     "output_type": "error",
     "traceback": [
      "\u001b[1;36m  File \u001b[1;32m\"C:\\Users\\yahia\\AppData\\Local\\Temp/ipykernel_14416/2044011299.py\"\u001b[1;36m, line \u001b[1;32m5\u001b[0m\n\u001b[1;33m    plt.xticks(rotation=30,positions )\u001b[0m\n\u001b[1;37m                                     ^\u001b[0m\n\u001b[1;31mSyntaxError\u001b[0m\u001b[1;31m:\u001b[0m positional argument follows keyword argument\n"
     ]
    }
   ],
   "source": [
    "import  matplotlib.pyplot as plt\n",
    "\n",
    "s1= sales[['City','Total Sales']].groupby('City').sum()\n",
    "s1.plot(figsize=(10, 5))\n",
    "plt.xticks(rotation=30,positions)"
   ]
  },
  {
   "cell_type": "code",
   "execution_count": 86,
   "metadata": {},
   "outputs": [
    {
     "data": {
      "text/plain": [
       " San Francisco-CA    44732\n",
       " Los Angeles-CA      29605\n",
       " New York City-NY    24876\n",
       " Boston-MA           19934\n",
       " Atlanta-GA          14881\n",
       " Dallas-TX           14820\n",
       " Seattle-WA          14732\n",
       " Portland-OR         10010\n",
       " Austin-TX            9905\n",
       " Portland-ME          2455\n",
       "Name: City, dtype: int64"
      ]
     },
     "execution_count": 86,
     "metadata": {},
     "output_type": "execute_result"
    }
   ],
   "source": [
    "s1= sales['City'].value_counts()\n",
    "# s1.head(100)\n",
    "# sales['City'].unique\n",
    "# s1.plot(xticks=sales['City'].unique)\n",
    "# plt.ax.get_xticks()\n",
    "# plt.xticks(rotation = 30)\n",
    "# s1.head(20)"
   ]
  },
  {
   "cell_type": "code",
   "execution_count": null,
   "metadata": {},
   "outputs": [],
   "source": [
    "sales[['City', 'Total Sales']].sort_values(by=\"Total Sales\")\n",
    "sales.sort_values(by=['City', 'Total Sales'], ascending=False).head()"
   ]
  }
 ],
 "metadata": {
  "interpreter": {
   "hash": "b1f41cb96c8c648ba691ae605b3523f469256e61c0ccb2c97fce768d5e19ec3e"
  },
  "kernelspec": {
   "display_name": "Python 3.9.0 64-bit",
   "name": "python3"
  },
  "language_info": {
   "codemirror_mode": {
    "name": "ipython",
    "version": 3
   },
   "file_extension": ".py",
   "mimetype": "text/x-python",
   "name": "python",
   "nbconvert_exporter": "python",
   "pygments_lexer": "ipython3",
   "version": "3.9.0"
  },
  "orig_nbformat": 4
 },
 "nbformat": 4,
 "nbformat_minor": 2
}

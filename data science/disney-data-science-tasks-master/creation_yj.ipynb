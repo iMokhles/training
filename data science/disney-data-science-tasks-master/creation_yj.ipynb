{
 "cells": [
  {
   "cell_type": "code",
   "execution_count": 1,
   "id": "fb9a1171",
   "metadata": {},
   "outputs": [],
   "source": [
    "from bs4 import BeautifulSoup as bs\n",
    "import requests\n",
    "import csv"
   ]
  },
  {
   "cell_type": "markdown",
   "id": "ed3d5003",
   "metadata": {},
   "source": [
    "# Task #1: get info box for Toy Story 3 film"
   ]
  },
  {
   "cell_type": "code",
   "execution_count": null,
   "id": "bd8dbfef",
   "metadata": {
    "collapsed": true
   },
   "outputs": [],
   "source": [
    "r = requests.get(\"https://en.wikipedia.org/wiki/Toy_Story_3\")\n",
    "\n",
    "# Convert to a beautiful soup object\n",
    "# soup = bs(r.content)\n",
    "\n",
    "# Print out the HTML\n",
    "# contents = soup.prettify()\n",
    "# print(contents)"
   ]
  },
  {
   "cell_type": "code",
   "execution_count": 42,
   "id": "dbd49e58",
   "metadata": {},
   "outputs": [],
   "source": [
    "def load_info_box(contents):\n",
    "    soup = bs(r.content)\n",
    "    info_rows = soup.find(class_=\"infobox vevent\")\n",
    "    if info_rows: \n",
    "        info_rows = info_rows.find_all(\"tr\")\n",
    "    else:\n",
    "        print (\"no class 'infobox vevent' \")\n",
    "        return None\n",
    "    # c = info_box.prettify()\n",
    "    # info_rows = info_box.\n",
    "    film_info = {}\n",
    "    for i,row in enumerate(info_rows):\n",
    "        if i == 0: \n",
    "            film_info['Film Name'] = row.get_text()\n",
    "        # if i in range (2,4):  \n",
    "            # film_info[row.find(class_='infobox-label').get_text()] = row.find(class_= 'infobox-data').get_text()\n",
    "        elif i in range (2,19):  \n",
    "            # print (row.prettify())\n",
    "        \n",
    "            x = row.find(class_= 'infobox-data')\n",
    "            if not x:\n",
    "                print('no class \"infobox-data\"')\n",
    "                return None\n",
    "            else: \n",
    "                x = x.find_all('li')\n",
    "            if len(x) == 0:\n",
    "                film_info[row.find(class_='infobox-label').get_text(\" \", strip=True)] = row.find(class_= 'infobox-data').get_text().replace(\"\\xa0\", \" \")\n",
    "            else:\n",
    "                y = [r.get_text(\" \", strip=True).replace(\"\\xa0\", \" \") for r in x]\n",
    "            # print (type(y), '---',','.join(y), len(y)) \n",
    "                film_info[row.find(class_='infobox-label').get_text(\" \", strip=True)] = y\n",
    "    return film_info\n",
    "\n",
    "# film_info = load_info_box(contents)\n",
    "# # print (film_info)\n",
    "# film_info\n"
   ]
  },
  {
   "cell_type": "markdown",
   "id": "4091526d",
   "metadata": {},
   "source": [
    "### Task #2: Get info box for all movies"
   ]
  },
  {
   "cell_type": "code",
   "execution_count": 23,
   "id": "3bec85b4",
   "metadata": {},
   "outputs": [],
   "source": [
    "r = requests.get(\"https://en.wikipedia.org/wiki/List_of_Walt_Disney_Pictures_films\")\n",
    "\n",
    "# Convert to a beautiful soup object\n",
    "soup = bs(r.content)\n",
    "\n",
    "# Print out the HTML\n",
    "contents = soup.prettify()\n",
    "# print(contents)\n"
   ]
  },
  {
   "cell_type": "code",
   "execution_count": null,
   "id": "ebccd8fe",
   "metadata": {},
   "outputs": [],
   "source": [
    "# soup.find_all('td', limit=5) #.find_all('td')\n",
    "base_url = 'https://en.wikipedia.org'\n",
    "movie_info = []\n",
    "for i,tbl in enumerate(soup.select('table.wikitable')):\n",
    "    if i == 0 : continue    # skip fist table\n",
    "    # if i == 3: break\n",
    "    lnks = tbl.select('tbody td a')\n",
    "    # print (lnks)\n",
    "    for j,lnk in enumerate (lnks):\n",
    "        # if j == 2: break\n",
    "        print (base_url + lnk['href'])\n",
    "        r = requests.get(base_url + lnk['href'])\n",
    "        # print (r.content)\n",
    "        a_movie_data = load_info_box(r.content)\n",
    "        if not a_movie_data:\n",
    "            continue\n",
    "        movie_info.append(a_movie_data)\n",
    "        with open('mycsvfile.csv', 'a') as f:  # append\n",
    "            w = csv.DictWriter(f, a_movie_data.keys())\n",
    "            w.writeheader()\n",
    "            w.writerow(a_movie_data)"
   ]
  },
  {
   "cell_type": "code",
   "execution_count": 44,
   "id": "f2ac785f",
   "metadata": {},
   "outputs": [],
   "source": [
    "header = []\n",
    "for row in movie_info:\n",
    "    for key, val in row.items():\n",
    "        if key not in header: \n",
    "            header.append(key)\n",
    "\n",
    "\n",
    "with open('mycsvfile-2.csv', 'w') as f:  # You will need 'wb' mode in Python 2.x\n",
    "    w = csv.DictWriter(f, header)\n",
    "    w.writeheader()\n",
    "    for r in movie_info:\n",
    "        try:\n",
    "            w.writerow(r)\n",
    "        except:\n",
    "            print(r)"
   ]
  }
 ],
 "metadata": {
  "kernelspec": {
   "display_name": "Python 3",
   "language": "python",
   "name": "python3"
  },
  "language_info": {
   "codemirror_mode": {
    "name": "ipython",
    "version": 3
   },
   "file_extension": ".py",
   "mimetype": "text/x-python",
   "name": "python",
   "nbconvert_exporter": "python",
   "pygments_lexer": "ipython3",
   "version": "3.8.10"
  }
 },
 "nbformat": 4,
 "nbformat_minor": 5
}

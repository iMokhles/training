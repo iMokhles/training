{
 "cells": [
  {
   "cell_type": "code",
   "execution_count": 3,
   "metadata": {},
   "outputs": [],
   "source": [
    "import os\n",
    "import pandas as pd\n",
    "import numpy as np\n",
    "import datetime \n",
    "import matplotlib.pyplot as plt\n"
   ]
  },
  {
   "cell_type": "code",
   "execution_count": null,
   "metadata": {},
   "outputs": [],
   "source": [
    "import matplotlib.pyplot as plt\n",
    "def plot_one_month():\n",
    "    \n",
    "    d = data.loc [data['Action'] == 'Downloading']\n",
    "    d= d[d['Status'] == 'Completed']\n",
    "    d['Hour']= d['Time'].dt.hour \n",
    "    x = d.groupby(['Hour']).count()['File']\n",
    "    d = pd.DataFrame(x)\n",
    "    d = d.rename(columns={'File':'Download'})\n",
    "\n",
    "    u = data.loc [data['Action'] == 'Uploading']\n",
    "    u= u[u['Status'] == 'Completed']\n",
    "    u['Hour']= u['Time'].dt.hour \n",
    "    x = u.groupby(['Hour']).count()['File']\n",
    "    u = pd.DataFrame(x)\n",
    "    u=u.rename(columns={'File':'Upload'})\n",
    "    all = d.join(u, on='Hour')\n",
    "\n",
    "    all.plot( y=['Upload', 'Download'])\n",
    "    plt.ylabel('No of files')\n",
    "    data_date = data['Time'].dt.date.unique()[0]\n",
    "    plt.title (data_date)\n",
    "    plt.show()"
   ]
  },
  {
   "cell_type": "code",
   "execution_count": 20,
   "metadata": {},
   "outputs": [],
   "source": [
    "SAMPLE = None # number of files to load, 'None' for load all\n",
    "import os\n",
    "def load_all_files():\n",
    "    timex = []\n",
    "    files = []\n",
    "    actions=[]\n",
    "    status = []\n",
    "\n",
    "    ach_log_dir = os.path.join(\".\",'data','SystemLog')\n",
    "    for i,f in enumerate(os.listdir(ach_log_dir)):\n",
    "\n",
    "        if SAMPLE and i> SAMPLE:\n",
    "            break\n",
    "        _, file_extension = os.path.splitext(f)\n",
    "        if file_extension != '.txt':\n",
    "            print (f)\n",
    "            continue\n",
    "        with open(os.path.join(ach_log_dir,f), 'rt') as fp:\n",
    "            while(True):\n",
    "                try:\n",
    "                    line = fp.readline()\n",
    "                except:\n",
    "                    print (f, line)\n",
    "                    continue\n",
    "                if not line:\n",
    "                    break\n",
    "                \n",
    "                try:\n",
    "                    x = line.split('::::')\n",
    "                    fdt_time = x[0] \n",
    "                    action = x[1].split()[0]\n",
    "                except:\n",
    "                    # print (line_no, 'error parsing action:', line)\n",
    "                    action = '***'\n",
    "                    fdt_time = ''\n",
    "\n",
    "                ls = line.split('\"')\n",
    "                if len(ls) > 1:\n",
    "                    file_name = ls[1]\n",
    "                    ls = ls[2].split()\n",
    "                    download_status = ls[0] if len(ls) > 0 else ''\n",
    "                else:\n",
    "                    file_name = ''\n",
    "                    download_status = ''\n",
    "                # print(line_no, '- ', fdt_time, '----',action, '***', file_name)\n",
    "                timex.append(fdt_time)\n",
    "                files.append(file_name)\n",
    "                actions.append(action)\n",
    "                status.append(download_status)\n",
    "                # line_no += 1\n",
    "    data1={ 'Time':timex,\n",
    "        'File': files,\n",
    "        'Action':actions,\n",
    "        'Status': status\n",
    "    }   \n",
    "    data = pd.DataFrame(data1)\n",
    "    data['Time'] = pd.to_datetime(data['Time'])\n",
    "    data.to_csv(os.path.join('.','data','ach_log_data_all.csv'))\n",
    "    \n",
    "load_all_files()"
   ]
  },
  {
   "cell_type": "markdown",
   "metadata": {},
   "source": [
    "Load data from csv file"
   ]
  },
  {
   "cell_type": "code",
   "execution_count": 4,
   "metadata": {},
   "outputs": [
    {
     "data": {
      "text/html": [
       "<div>\n",
       "<style scoped>\n",
       "    .dataframe tbody tr th:only-of-type {\n",
       "        vertical-align: middle;\n",
       "    }\n",
       "\n",
       "    .dataframe tbody tr th {\n",
       "        vertical-align: top;\n",
       "    }\n",
       "\n",
       "    .dataframe thead th {\n",
       "        text-align: right;\n",
       "    }\n",
       "</style>\n",
       "<table border=\"1\" class=\"dataframe\">\n",
       "  <thead>\n",
       "    <tr style=\"text-align: right;\">\n",
       "      <th></th>\n",
       "      <th>Unnamed: 0</th>\n",
       "      <th>Time</th>\n",
       "      <th>File</th>\n",
       "      <th>Action</th>\n",
       "      <th>Status</th>\n",
       "    </tr>\n",
       "  </thead>\n",
       "  <tbody>\n",
       "    <tr>\n",
       "      <th>0</th>\n",
       "      <td>0</td>\n",
       "      <td>2020-01-01 00:00:09</td>\n",
       "      <td>NaN</td>\n",
       "      <td>Open</td>\n",
       "      <td>NaN</td>\n",
       "    </tr>\n",
       "    <tr>\n",
       "      <th>1</th>\n",
       "      <td>1</td>\n",
       "      <td>2020-01-01 02:05:14</td>\n",
       "      <td>29_PRESETTLEMENT_202001010206220818.xml</td>\n",
       "      <td>Downloading</td>\n",
       "      <td>......</td>\n",
       "    </tr>\n",
       "    <tr>\n",
       "      <th>2</th>\n",
       "      <td>2</td>\n",
       "      <td>2020-01-01 02:05:14</td>\n",
       "      <td>29_PRESETTLEMENT_202001010206220818.xml</td>\n",
       "      <td>Downloading</td>\n",
       "      <td>Completed</td>\n",
       "    </tr>\n",
       "    <tr>\n",
       "      <th>3</th>\n",
       "      <td>3</td>\n",
       "      <td>2020-01-01 02:05:20</td>\n",
       "      <td>29_PRESETTLEMENT_202001010206220818.xml</td>\n",
       "      <td>Decrypting</td>\n",
       "      <td>......</td>\n",
       "    </tr>\n",
       "    <tr>\n",
       "      <th>4</th>\n",
       "      <td>4</td>\n",
       "      <td>2020-01-01 02:05:20</td>\n",
       "      <td>29_PRESETTLEMENT_202001010206220818.xml</td>\n",
       "      <td>Decrypting</td>\n",
       "      <td>Completed</td>\n",
       "    </tr>\n",
       "    <tr>\n",
       "      <th>...</th>\n",
       "      <td>...</td>\n",
       "      <td>...</td>\n",
       "      <td>...</td>\n",
       "      <td>...</td>\n",
       "      <td>...</td>\n",
       "    </tr>\n",
       "    <tr>\n",
       "      <th>3708213</th>\n",
       "      <td>3708213</td>\n",
       "      <td>2020-12-31 20:32:21</td>\n",
       "      <td>29_PACS004_20201231203209229079.xml</td>\n",
       "      <td>Delivery</td>\n",
       "      <td>Completed</td>\n",
       "    </tr>\n",
       "    <tr>\n",
       "      <th>3708214</th>\n",
       "      <td>3708214</td>\n",
       "      <td>2020-12-31 20:32:21</td>\n",
       "      <td>29_PACS002_20201231203209510062_S.xml</td>\n",
       "      <td>Decrypting</td>\n",
       "      <td>......</td>\n",
       "    </tr>\n",
       "    <tr>\n",
       "      <th>3708215</th>\n",
       "      <td>3708215</td>\n",
       "      <td>2020-12-31 20:32:22</td>\n",
       "      <td>29_PACS002_20201231203209510062_S.xml</td>\n",
       "      <td>Decrypting</td>\n",
       "      <td>Completed</td>\n",
       "    </tr>\n",
       "    <tr>\n",
       "      <th>3708216</th>\n",
       "      <td>3708216</td>\n",
       "      <td>2020-12-31 20:32:22</td>\n",
       "      <td>D:\\ACHFiles_WorkStation\\AutoDownloaded\\Payment...</td>\n",
       "      <td>File</td>\n",
       "      <td>NaN</td>\n",
       "    </tr>\n",
       "    <tr>\n",
       "      <th>3708217</th>\n",
       "      <td>3708217</td>\n",
       "      <td>2020-12-31 20:32:22</td>\n",
       "      <td>29_PACS002_20201231203209510062_S.xml</td>\n",
       "      <td>Delivery</td>\n",
       "      <td>Completed</td>\n",
       "    </tr>\n",
       "  </tbody>\n",
       "</table>\n",
       "<p>3708218 rows × 5 columns</p>\n",
       "</div>"
      ],
      "text/plain": [
       "         Unnamed: 0                Time  \\\n",
       "0                 0 2020-01-01 00:00:09   \n",
       "1                 1 2020-01-01 02:05:14   \n",
       "2                 2 2020-01-01 02:05:14   \n",
       "3                 3 2020-01-01 02:05:20   \n",
       "4                 4 2020-01-01 02:05:20   \n",
       "...             ...                 ...   \n",
       "3708213     3708213 2020-12-31 20:32:21   \n",
       "3708214     3708214 2020-12-31 20:32:21   \n",
       "3708215     3708215 2020-12-31 20:32:22   \n",
       "3708216     3708216 2020-12-31 20:32:22   \n",
       "3708217     3708217 2020-12-31 20:32:22   \n",
       "\n",
       "                                                      File       Action  \\\n",
       "0                                                      NaN         Open   \n",
       "1                  29_PRESETTLEMENT_202001010206220818.xml  Downloading   \n",
       "2                  29_PRESETTLEMENT_202001010206220818.xml  Downloading   \n",
       "3                  29_PRESETTLEMENT_202001010206220818.xml   Decrypting   \n",
       "4                  29_PRESETTLEMENT_202001010206220818.xml   Decrypting   \n",
       "...                                                    ...          ...   \n",
       "3708213                29_PACS004_20201231203209229079.xml     Delivery   \n",
       "3708214              29_PACS002_20201231203209510062_S.xml   Decrypting   \n",
       "3708215              29_PACS002_20201231203209510062_S.xml   Decrypting   \n",
       "3708216  D:\\ACHFiles_WorkStation\\AutoDownloaded\\Payment...         File   \n",
       "3708217              29_PACS002_20201231203209510062_S.xml     Delivery   \n",
       "\n",
       "            Status  \n",
       "0              NaN  \n",
       "1           ......  \n",
       "2        Completed  \n",
       "3           ......  \n",
       "4        Completed  \n",
       "...            ...  \n",
       "3708213  Completed  \n",
       "3708214     ......  \n",
       "3708215  Completed  \n",
       "3708216        NaN  \n",
       "3708217  Completed  \n",
       "\n",
       "[3708218 rows x 5 columns]"
      ]
     },
     "execution_count": 4,
     "metadata": {},
     "output_type": "execute_result"
    }
   ],
   "source": [
    "import pandas as pd\n",
    "data = pd.read_csv(os.path.join('.','data','ach_log_data_all.csv'), parse_dates=['Time'])\n",
    "data"
   ]
  },
  {
   "cell_type": "markdown",
   "metadata": {},
   "source": [
    "### Clean Data, remove duplicate file/action/status/date"
   ]
  },
  {
   "cell_type": "markdown",
   "metadata": {},
   "source": [
    "Summaries data for download/upload count file"
   ]
  },
  {
   "cell_type": "code",
   "execution_count": 5,
   "metadata": {},
   "outputs": [],
   "source": [
    "d = data.loc [(data['Action'] == 'Downloading') & (data['Status'] == 'Completed')].copy()\n",
    "d['Date'] = d['Time'].dt.date\n",
    "d.drop_duplicates(subset=['File', 'Action', 'Status', 'Date'], keep='first')\n",
    "x = d.groupby(['Date']).count()['File']\n",
    "d = pd.DataFrame(x)\n",
    "d = d.rename(columns={'File':'Download'})\n",
    "\n",
    "u = data.loc [(data['Action'] == 'Uploading') & (data['Status'] == 'Completed')].copy()\n",
    "u['Date']= u['Time'].dt.date \n",
    "u.drop_duplicates(subset=['File', 'Action', 'Status', 'Date'], keep='first')\n",
    "x = u.groupby(['Date']).count()['File']\n",
    "# x = u.groupby(['Time'].dt.date).count()['File']\n",
    "u = pd.DataFrame(x) # reset index\n",
    "u=u.rename(columns={'File':'Upload'})\n",
    "file_count = d.join(u, on='Date')\n"
   ]
  },
  {
   "cell_type": "code",
   "execution_count": 6,
   "metadata": {},
   "outputs": [
    {
     "data": {
      "text/html": [
       "<div>\n",
       "<style scoped>\n",
       "    .dataframe tbody tr th:only-of-type {\n",
       "        vertical-align: middle;\n",
       "    }\n",
       "\n",
       "    .dataframe tbody tr th {\n",
       "        vertical-align: top;\n",
       "    }\n",
       "\n",
       "    .dataframe thead th {\n",
       "        text-align: right;\n",
       "    }\n",
       "</style>\n",
       "<table border=\"1\" class=\"dataframe\">\n",
       "  <thead>\n",
       "    <tr style=\"text-align: right;\">\n",
       "      <th></th>\n",
       "      <th>Download</th>\n",
       "      <th>Upload</th>\n",
       "    </tr>\n",
       "    <tr>\n",
       "      <th>Date</th>\n",
       "      <th></th>\n",
       "      <th></th>\n",
       "    </tr>\n",
       "  </thead>\n",
       "  <tbody>\n",
       "    <tr>\n",
       "      <th>2019-10-22</th>\n",
       "      <td>255</td>\n",
       "      <td>4.0</td>\n",
       "    </tr>\n",
       "    <tr>\n",
       "      <th>2019-10-23</th>\n",
       "      <td>356</td>\n",
       "      <td>3.0</td>\n",
       "    </tr>\n",
       "    <tr>\n",
       "      <th>2019-10-24</th>\n",
       "      <td>394</td>\n",
       "      <td>5.0</td>\n",
       "    </tr>\n",
       "    <tr>\n",
       "      <th>2019-10-25</th>\n",
       "      <td>2</td>\n",
       "      <td>NaN</td>\n",
       "    </tr>\n",
       "    <tr>\n",
       "      <th>2019-10-27</th>\n",
       "      <td>465</td>\n",
       "      <td>4.0</td>\n",
       "    </tr>\n",
       "  </tbody>\n",
       "</table>\n",
       "</div>"
      ],
      "text/plain": [
       "            Download  Upload\n",
       "Date                        \n",
       "2019-10-22       255     4.0\n",
       "2019-10-23       356     3.0\n",
       "2019-10-24       394     5.0\n",
       "2019-10-25         2     NaN\n",
       "2019-10-27       465     4.0"
      ]
     },
     "execution_count": 6,
     "metadata": {},
     "output_type": "execute_result"
    }
   ],
   "source": [
    "file_count.head()"
   ]
  },
  {
   "cell_type": "code",
   "execution_count": 7,
   "metadata": {},
   "outputs": [
    {
     "data": {
      "image/png": "[encoded data removed]",
      "text/plain": [
       "<Figure size 432x288 with 1 Axes>"
      ]
     },
     "metadata": {
      "needs_background": "light"
     },
     "output_type": "display_data"
    }
   ],
   "source": [
    "file_count.plot( y=['Upload', 'Download'])\n",
    "plt.ylabel('No of files')\n",
    "# data_date = data['Time'].dt.date.unique()[0]  \n",
    "plt.xticks(rotation = 70)\n",
    "# plt.title (data_date)\n",
    "plt.show()"
   ]
  },
  {
   "cell_type": "markdown",
   "metadata": {},
   "source": [
    "### plot upload/download number of files for a given period"
   ]
  },
  {
   "cell_type": "code",
   "execution_count": 8,
   "metadata": {},
   "outputs": [
    {
     "data": {
      "image/png": "[encoded data removed]",
      "text/plain": [
       "<Figure size 432x288 with 1 Axes>"
      ]
     },
     "metadata": {
      "needs_background": "light"
     },
     "output_type": "display_data"
    }
   ],
   "source": [
    "from_dt = '2021-10-01'\n",
    "to_dt   = '2021-10-31'\n",
    "file_count.loc[np.datetime64(from_dt): np.datetime64(to_dt)].plot()\n",
    "\n",
    "plt.ylabel('No of files')\n",
    "plt.xticks(rotation = 70)\n",
    "plt.title ('Upload/Download ACH files')\n",
    "plt.show()\n"
   ]
  },
  {
   "cell_type": "markdown",
   "metadata": {},
   "source": [
    "Combine dataframe for elapsed time for upload/download time"
   ]
  },
  {
   "cell_type": "code",
   "execution_count": 216,
   "metadata": {},
   "outputs": [
    {
     "data": {
      "text/plain": [
       "Index(['Unnamed: 0', 'Time', 'File', 'Action', 'Status'], dtype='object')"
      ]
     },
     "execution_count": 216,
     "metadata": {},
     "output_type": "execute_result"
    }
   ],
   "source": [
    "data.columns"
   ]
  },
  {
   "cell_type": "code",
   "execution_count": 9,
   "metadata": {},
   "outputs": [],
   "source": [
    "d1 = data.copy()\n",
    "d1['Date']=d1['Time'].dt.date \n",
    "d1=d1.drop_duplicates(subset=['File', 'Action', 'Status', 'Date'], keep='first')\n",
    "# d1[d1.duplicated(['File', 'Action', 'Status', 'Date'], keep = False)]\n",
    "\n",
    "start = d1[['Time','File', 'Action', 'Date']].loc[(data['Status'] == '......') & (data['Action'].isin(['Downloading','Uploading'])) ]\n",
    "end = d1[['Time','File', 'Action', 'Date']].loc[(data['Status'] == 'Completed') & (data['Action'].isin(['Downloading','Uploading'])) ]\n",
    "end.columns =['End', 'File', 'Action', 'Date']\n",
    "# start\n",
    "# end\n",
    "# load_time=start.join(end.set_index(['File','Action', 'Date']), on=['File', 'Action', 'Date'])\n",
    "load_time=start.merge(end, on=['File', 'Action', 'Date'])\n",
    "load_time['Elapsed']= (load_time['End'] - load_time['Time']).dt.total_seconds()\n",
    "load_time=load_time.loc[load_time['Elapsed'] >= 0]  # remove -ve elpased time"
   ]
  },
  {
   "cell_type": "markdown",
   "metadata": {},
   "source": [
    "Test"
   ]
  },
  {
   "cell_type": "markdown",
   "metadata": {},
   "source": [
    "Plot download/upload eplased time per dates for a given day"
   ]
  },
  {
   "cell_type": "code",
   "execution_count": null,
   "metadata": {},
   "outputs": [],
   "source": [
    "plot_date = '2021-10-24'\n",
    "x=load_time.loc[load_time['Time'].dt.date == np.datetime64(plot_date)].set_index(['Time'])# limit the plot for one day \n",
    "p1=x.loc[x['Action'] == 'Downloading'].plot(y='Elapsed')\n",
    "plt.ylabel('Elaped sec.')\n",
    "plt.xticks(rotation = 70)\n",
    "plt.title ('Duration - Downlaoding ACH files')\n",
    "plt.show()\n",
    "p2=x.loc[x['Action'] == 'Uploading'].plot(y='Elapsed')\n",
    "plt.ylabel('Elaped sec.')\n",
    "plt.xticks(rotation = 70)\n",
    "plt.title ('Duration - Uploading ACH files')\n",
    "plt.show()"
   ]
  },
  {
   "cell_type": "markdown",
   "metadata": {},
   "source": [
    "Plot both donwload & upload in the same graph"
   ]
  },
  {
   "cell_type": "code",
   "execution_count": 10,
   "metadata": {},
   "outputs": [
    {
     "name": "stderr",
     "output_type": "stream",
     "text": [
      "C:\\Users\\yahia\\anaconda3\\lib\\site-packages\\pandas\\core\\indexing.py:1637: SettingWithCopyWarning: \n",
      "A value is trying to be set on a copy of a slice from a DataFrame\n",
      "\n",
      "See the caveats in the documentation: https://pandas.pydata.org/pandas-docs/stable/user_guide/indexing.html#returning-a-view-versus-a-copy\n",
      "  self._setitem_single_block(indexer, value, name)\n"
     ]
    },
    {
     "data": {
      "text/plain": [
       "<AxesSubplot:xlabel='Time'>"
      ]
     },
     "execution_count": 10,
     "metadata": {},
     "output_type": "execute_result"
    },
    {
     "data": {
      "image/png": "[encoded data removed]",
      "text/plain": [
       "<Figure size 432x288 with 1 Axes>"
      ]
     },
     "metadata": {
      "needs_background": "light"
     },
     "output_type": "display_data"
    }
   ],
   "source": [
    "plot_date = '2021-10-24'\n",
    "x=load_time.loc[load_time['Time'].dt.date == np.datetime64(plot_date)].copy()# limit the plot for one day \n",
    "x.reset_index(inplace=True)\n",
    "x['Elpased_dnld'] = 0\n",
    "x['Elpased_dnld'].loc[x['Action'] == 'Downloading']= x['Elapsed']\n",
    "x['Elpased_upld'] = 0\n",
    "x['Elpased_upld'].loc[x['Action'] == 'Uploading'] = x['Elapsed']\n",
    "x.plot(x='Time', y=['Elpased_dnld','Elpased_upld' ])\n",
    "# x.plot(x=).area(figsize=(12, 4), subplots=True)\n",
    "# x"
   ]
  },
  {
   "cell_type": "code",
   "execution_count": 13,
   "metadata": {},
   "outputs": [
    {
     "data": {
      "text/plain": [
       "<AxesSubplot:xlabel='Time'>"
      ]
     },
     "execution_count": 13,
     "metadata": {},
     "output_type": "execute_result"
    },
    {
     "data": {
      "image/png": "[encoded data removed]",
      "text/plain": [
       "<Figure size 432x288 with 1 Axes>"
      ]
     },
     "metadata": {
      "needs_background": "light"
     },
     "output_type": "display_data"
    }
   ],
   "source": [
    "load_time.plot(x='Time', y=['Elapsed'])"
   ]
  },
  {
   "cell_type": "markdown",
   "metadata": {},
   "source": [
    "Drill down on the data"
   ]
  },
  {
   "cell_type": "code",
   "execution_count": 20,
   "metadata": {},
   "outputs": [],
   "source": [
    "load_time[load_time['Elapsed'] > 600]   # 68 file\n",
    "# load_time[load_time['File']== '29_PACS008_2021051915083670803.XML']\n",
    "# d1[d1['File']== '29_PACS008_2021051915083670803.XML']\n",
    "# load_time\n",
    "f = load_time[load_time['Elapsed'] > 600]['File']   #files processed in more 10 min\n",
    "data[data['File'].isin(f)].to_csv(os.path.join('.', 'out', 'more than 6 min.csv'))"
   ]
  },
  {
   "cell_type": "markdown",
   "metadata": {},
   "source": [
    "Some records seems misleading. make more investigation for this peak\n",
    "Find files with upload/download elapsed time of more than x seconds"
   ]
  },
  {
   "cell_type": "code",
   "execution_count": 19,
   "metadata": {},
   "outputs": [],
   "source": [
    "# load_time['Elapsed'].max()\n",
    "# load_time.loc[load_time['Status'] == 'failed']\n",
    "data.loc[data['Status'] == 'failed'].to_csv(os.path.join('.', 'out', 'failed.csv'))"
   ]
  }
 ],
 "metadata": {
  "interpreter": {
   "hash": "21e62ba09b76d7cee2e84e7e7350fe21b54bbb9bd368001fc31217b489153254"
  },
  "kernelspec": {
   "display_name": "Python 3",
   "language": "python",
   "name": "python3"
  },
  "language_info": {
   "codemirror_mode": {
    "name": "ipython",
    "version": 3
   },
   "file_extension": ".py",
   "mimetype": "text/x-python",
   "name": "python",
   "nbconvert_exporter": "python",
   "pygments_lexer": "ipython3",
   "version": "3.8.8"
  }
 },
 "nbformat": 4,
 "nbformat_minor": 2
}

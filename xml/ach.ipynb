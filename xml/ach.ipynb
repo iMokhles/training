{
 "cells": [
  {
   "cell_type": "code",
   "execution_count": 19,
   "metadata": {},
   "outputs": [],
   "source": [
    "import pandas as pd\n",
    "\n",
    "ach_out_file = r'C:\\Yahia\\Home\\Yahia-Dev\\Python\\training\\T24Iskan\\data\\ACHOUT.txt'\n",
    "timex = []\n",
    "time_str=[]\n",
    "sizey =  []\n",
    "with open(ach_out_file, 'rt') as f:\n",
    "    while(True):\n",
    "        line = f.readline()\n",
    "        if not line:\n",
    "            break\n",
    "        fdt_time = line[45:57]\n",
    "        ftime = line[52:57]\n",
    "        x:float = round(int(ftime[0:2]) + int(ftime[3:5])/60.0,1)\n",
    "        # print (ftime, x, int(ftime[3:5]))\n",
    "        # timex.append(round(x,1))\n",
    "        # sizey.append(int(line[34:44]))\n",
    "        # d.append([fdt_time, ftime, xtime, size])\n",
    "        # print (fdt_time, ftime, size)\n",
    "        # print (fdt_time, ftime, xtime, size)\n",
    "\n",
    "        timex.append(x)\n",
    "        time_str.append(ftime)\n",
    "        sizey.append(int(int(line[34:44])/1000))"
   ]
  },
  {
   "cell_type": "code",
   "execution_count": 20,
   "metadata": {},
   "outputs": [
    {
     "data": {
      "text/html": [
       "<div>\n",
       "<style scoped>\n",
       "    .dataframe tbody tr th:only-of-type {\n",
       "        vertical-align: middle;\n",
       "    }\n",
       "\n",
       "    .dataframe tbody tr th {\n",
       "        vertical-align: top;\n",
       "    }\n",
       "\n",
       "    .dataframe thead th {\n",
       "        text-align: right;\n",
       "    }\n",
       "</style>\n",
       "<table border=\"1\" class=\"dataframe\">\n",
       "  <thead>\n",
       "    <tr style=\"text-align: right;\">\n",
       "      <th></th>\n",
       "      <th>Time</th>\n",
       "      <th>Size</th>\n",
       "    </tr>\n",
       "  </thead>\n",
       "  <tbody>\n",
       "    <tr>\n",
       "      <th>0</th>\n",
       "      <td>2021-10-25 09:49:00</td>\n",
       "      <td>1</td>\n",
       "    </tr>\n",
       "    <tr>\n",
       "      <th>1</th>\n",
       "      <td>2021-10-25 09:49:00</td>\n",
       "      <td>1</td>\n",
       "    </tr>\n",
       "    <tr>\n",
       "      <th>2</th>\n",
       "      <td>2021-10-25 09:50:00</td>\n",
       "      <td>1</td>\n",
       "    </tr>\n",
       "    <tr>\n",
       "      <th>3</th>\n",
       "      <td>2021-10-25 09:51:00</td>\n",
       "      <td>1</td>\n",
       "    </tr>\n",
       "    <tr>\n",
       "      <th>4</th>\n",
       "      <td>2021-10-25 09:51:00</td>\n",
       "      <td>1</td>\n",
       "    </tr>\n",
       "    <tr>\n",
       "      <th>...</th>\n",
       "      <td>...</td>\n",
       "      <td>...</td>\n",
       "    </tr>\n",
       "    <tr>\n",
       "      <th>110</th>\n",
       "      <td>2021-10-25 14:12:00</td>\n",
       "      <td>1</td>\n",
       "    </tr>\n",
       "    <tr>\n",
       "      <th>111</th>\n",
       "      <td>2021-10-25 14:12:00</td>\n",
       "      <td>1</td>\n",
       "    </tr>\n",
       "    <tr>\n",
       "      <th>112</th>\n",
       "      <td>2021-10-25 14:12:00</td>\n",
       "      <td>1</td>\n",
       "    </tr>\n",
       "    <tr>\n",
       "      <th>113</th>\n",
       "      <td>2021-10-25 14:13:00</td>\n",
       "      <td>1</td>\n",
       "    </tr>\n",
       "    <tr>\n",
       "      <th>114</th>\n",
       "      <td>2021-10-25 14:13:00</td>\n",
       "      <td>1</td>\n",
       "    </tr>\n",
       "  </tbody>\n",
       "</table>\n",
       "<p>115 rows × 2 columns</p>\n",
       "</div>"
      ],
      "text/plain": [
       "                   Time  Size\n",
       "0   2021-10-25 09:49:00     1\n",
       "1   2021-10-25 09:49:00     1\n",
       "2   2021-10-25 09:50:00     1\n",
       "3   2021-10-25 09:51:00     1\n",
       "4   2021-10-25 09:51:00     1\n",
       "..                  ...   ...\n",
       "110 2021-10-25 14:12:00     1\n",
       "111 2021-10-25 14:12:00     1\n",
       "112 2021-10-25 14:12:00     1\n",
       "113 2021-10-25 14:13:00     1\n",
       "114 2021-10-25 14:13:00     1\n",
       "\n",
       "[115 rows x 2 columns]"
      ]
     },
     "execution_count": 20,
     "metadata": {},
     "output_type": "execute_result"
    }
   ],
   "source": [
    "data1={ 'Time':time_str,\n",
    "        'Size': sizey\n",
    "}\n",
    "data = pd.DataFrame(data1)\n",
    "# data['Size'] = pd.to_numeric(data['Size'])\n",
    "data['Time'] = pd.to_datetime(data['Time'])\n",
    "\n",
    "data"
   ]
  },
  {
   "cell_type": "code",
   "execution_count": 22,
   "metadata": {},
   "outputs": [
    {
     "data": {
      "image/png": "[encoded data removed]",
      "text/plain": [
       "<Figure size 432x288 with 1 Axes>"
      ]
     },
     "metadata": {
      "needs_background": "light"
     },
     "output_type": "display_data"
    }
   ],
   "source": [
    "import  matplotlib.pyplot as plt\n",
    "# results=data.groupby(['Time']).sum().sort_values(by=['Time'])\n",
    "# results\n",
    "# hours = data['Time'].unique()\n",
    "# hours\n",
    "# hours.sort()\n",
    "plt.plot(data['Time'], data['Size'])\n",
    "plt.xticks(data['Time'], rotation=90, size=10)\n",
    "plt.show()"
   ]
  },
  {
   "cell_type": "code",
   "execution_count": 23,
   "metadata": {},
   "outputs": [
    {
     "data": {
      "text/plain": [
       "<AxesSubplot:xlabel='Time'>"
      ]
     },
     "execution_count": 23,
     "metadata": {},
     "output_type": "execute_result"
    },
    {
     "data": {
      "image/png": "[encoded data removed]",
      "text/plain": [
       "<Figure size 432x288 with 1 Axes>"
      ]
     },
     "metadata": {
      "needs_background": "light"
     },
     "output_type": "display_data"
    }
   ],
   "source": [
    "\n",
    "\n",
    "\n",
    "data.plot(x='Time', y='Size')"
   ]
  }
 ],
 "metadata": {
  "interpreter": {
   "hash": "b1f41cb96c8c648ba691ae605b3523f469256e61c0ccb2c97fce768d5e19ec3e"
  },
  "kernelspec": {
   "display_name": "Python 3.9.0 64-bit",
   "name": "python3"
  },
  "language_info": {
   "codemirror_mode": {
    "name": "ipython",
    "version": 3
   },
   "file_extension": ".py",
   "mimetype": "text/x-python",
   "name": "python",
   "nbconvert_exporter": "python",
   "pygments_lexer": "ipython3",
   "version": "3.9.0"
  },
  "orig_nbformat": 4
 },
 "nbformat": 4,
 "nbformat_minor": 2
}

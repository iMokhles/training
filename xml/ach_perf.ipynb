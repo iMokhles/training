{
 "cells": [
  {
   "cell_type": "code",
   "execution_count": 210,
   "metadata": {},
   "outputs": [],
   "source": [
    "import pandas as pd\n",
    "\n",
    "ach_log_file = r\"C:\\Yahia\\Home\\Yahia-Dev\\Python\\training\\xml\\performance\\SystemLog\\SystemLog\\Log10172021.txt\"\n",
    "timex = []\n",
    "files = []\n",
    "actions=[]\n",
    "status = []\n",
    "line_no = 1\n",
    "with open(ach_log_file, 'rt') as f:\n",
    "    while(True):\n",
    "        line = f.readline()\n",
    "        if not line:\n",
    "            break\n",
    "        \n",
    "        try:\n",
    "            x = line.split('::::')\n",
    "            fdt_time = x[0] \n",
    "            action = x[1].split()[0]\n",
    "        except:\n",
    "            # print (line_no, 'error parsing action:', line)\n",
    "            action = '***'\n",
    "            fdt_time = ''\n",
    "\n",
    "        ls = line.split('\"')\n",
    "        if len(ls) > 1:\n",
    "            file_name = ls[1]\n",
    "            ls = ls[2].split()\n",
    "            download_status = ls[0] if len(ls) > 0 else ''\n",
    "        else:\n",
    "            file_name = ''\n",
    "            download_status = ''\n",
    "        # print(line_no, '- ', fdt_time, '----',action, '***', file_name)\n",
    "        timex.append(fdt_time)\n",
    "        files.append(file_name)\n",
    "        actions.append(action)\n",
    "        status.append(download_status)\n",
    "        line_no += 1\n",
    "        # timex.append(x)\n",
    "        # time_str.append(ftime)\n",
    "       "
   ]
  },
  {
   "cell_type": "code",
   "execution_count": 211,
   "metadata": {},
   "outputs": [],
   "source": [
    "data1={ 'Time':timex,\n",
    "        'File': files,\n",
    "        'Action':actions,\n",
    "        'Status': status\n",
    "}\n",
    "data = pd.DataFrame(data1)\n",
    "data['Time'] = pd.to_datetime(data['Time'])"
   ]
  },
  {
   "cell_type": "code",
   "execution_count": 213,
   "metadata": {},
   "outputs": [
    {
     "data": {
      "image/png": "[encoded data removed]",
      "text/plain": [
       "<Figure size 432x288 with 1 Axes>"
      ]
     },
     "metadata": {
      "needs_background": "light"
     },
     "output_type": "display_data"
    }
   ],
   "source": [
    "import matplotlib.pyplot as plt\n",
    "d = data.loc [data['Action'] == 'Downloading']\n",
    "d= d[d['Status'] == 'Completed']\n",
    "d['Hour']= d['Time'].dt.hour \n",
    "x = d.groupby(['Hour']).count()['File']\n",
    "d = pd.DataFrame(x)\n",
    "d = d.rename(columns={'File':'Download'})\n",
    "\n",
    "u = data.loc [data['Action'] == 'Uploading']\n",
    "u= u[u['Status'] == 'Completed']\n",
    "u['Hour']= u['Time'].dt.hour \n",
    "x = u.groupby(['Hour']).count()['File']\n",
    "u = pd.DataFrame(x)\n",
    "u=u.rename(columns={'File':'Upload'})\n",
    "all = d.join(u, on='Hour')\n",
    "\n",
    "all.plot( y=['Upload', 'Download'])\n",
    "plt.ylabel('No of files')\n",
    "data_date = data['Time'].dt.date.unique()[0]\n",
    "plt.title (data_date)\n",
    "plt.show()\n",
    "\n"
   ]
  },
  {
   "cell_type": "code",
   "execution_count": 216,
   "metadata": {},
   "outputs": [],
   "source": [
    "import os\n",
    "ach_log_dir = r\"C:\\Yahia\\Home\\Yahia-Dev\\Python\\training\\xml\\performance\\SystemLog\\SystemLog\"\n",
    "for f in os.listdir(ach_log_dir):\n",
    "    with open(os.path.join(ach_log_dir,f), 'rt') as f:\n",
    "        while(True):\n",
    "            line = f.readline()\n",
    "            if not line:\n",
    "                break\n",
    "            \n",
    "            try:\n",
    "                x = line.split('::::')\n",
    "                fdt_time = x[0] \n",
    "                action = x[1].split()[0]\n",
    "            except:\n",
    "                # print (line_no, 'error parsing action:', line)\n",
    "                action = '***'\n",
    "                fdt_time = ''\n",
    "\n",
    "            ls = line.split('\"')\n",
    "            if len(ls) > 1:\n",
    "                file_name = ls[1]\n",
    "                ls = ls[2].split()\n",
    "                download_status = ls[0] if len(ls) > 0 else ''\n",
    "            else:\n",
    "                file_name = ''\n",
    "                download_status = ''\n",
    "            # print(line_no, '- ', fdt_time, '----',action, '***', file_name)\n",
    "            timex.append(fdt_time)\n",
    "            files.append(file_name)\n",
    "            actions.append(action)\n",
    "            status.append(download_status)\n",
    "            line_no += 1"
   ]
  },
  {
   "cell_type": "code",
   "execution_count": 217,
   "metadata": {},
   "outputs": [],
   "source": [
    "data1={ 'Time':timex,\n",
    "        'File': files,\n",
    "        'Action':actions,\n",
    "        'Status': status\n",
    "}\n",
    "data = pd.DataFrame(data1)\n",
    "data['Time'] = pd.to_datetime(data['Time'])"
   ]
  },
  {
   "cell_type": "code",
   "execution_count": null,
   "metadata": {},
   "outputs": [],
   "source": [
    "data.to_csv(r'.\\data\\ach_log_data_all.csv')"
   ]
  },
  {
   "cell_type": "code",
   "execution_count": 2,
   "metadata": {},
   "outputs": [],
   "source": [
    "import pandas as pd\n",
    "data = pd.read_csv(r'.\\data\\ach_log_data_all.csv', parse_dates=['Time'])"
   ]
  },
  {
   "cell_type": "markdown",
   "metadata": {},
   "source": [
    "Summaries data for download/upload"
   ]
  },
  {
   "cell_type": "code",
   "execution_count": 3,
   "metadata": {},
   "outputs": [],
   "source": [
    "d = data.loc [data['Action'] == 'Downloading']\n",
    "d= d[d['Status'] == 'Completed']\n",
    "d['Date']= d['Time'].dt.date \n",
    "x = d.groupby(['Date']).count()['File']\n",
    "d = pd.DataFrame(x)\n",
    "d = d.rename(columns={'File':'Download'})\n",
    "\n",
    "u = data.loc [data['Action'] == 'Uploading']\n",
    "u= u[u['Status'] == 'Completed']\n",
    "u['Date']= u['Time'].dt.date \n",
    "x = u.groupby(['Date']).count()['File']\n",
    "u = pd.DataFrame(x)\n",
    "u=u.rename(columns={'File':'Upload'})\n",
    "upld_dnld_data = d.join(u, on='Date')\n"
   ]
  },
  {
   "cell_type": "code",
   "execution_count": 109,
   "metadata": {},
   "outputs": [
    {
     "data": {
      "text/html": [
       "<div>\n",
       "<style scoped>\n",
       "    .dataframe tbody tr th:only-of-type {\n",
       "        vertical-align: middle;\n",
       "    }\n",
       "\n",
       "    .dataframe tbody tr th {\n",
       "        vertical-align: top;\n",
       "    }\n",
       "\n",
       "    .dataframe thead th {\n",
       "        text-align: right;\n",
       "    }\n",
       "</style>\n",
       "<table border=\"1\" class=\"dataframe\">\n",
       "  <thead>\n",
       "    <tr style=\"text-align: right;\">\n",
       "      <th></th>\n",
       "      <th>Download</th>\n",
       "      <th>Upload</th>\n",
       "    </tr>\n",
       "    <tr>\n",
       "      <th>Date</th>\n",
       "      <th></th>\n",
       "      <th></th>\n",
       "    </tr>\n",
       "  </thead>\n",
       "  <tbody>\n",
       "    <tr>\n",
       "      <th>2019-10-22</th>\n",
       "      <td>255</td>\n",
       "      <td>4.0</td>\n",
       "    </tr>\n",
       "    <tr>\n",
       "      <th>2019-10-23</th>\n",
       "      <td>356</td>\n",
       "      <td>3.0</td>\n",
       "    </tr>\n",
       "    <tr>\n",
       "      <th>2019-10-24</th>\n",
       "      <td>394</td>\n",
       "      <td>5.0</td>\n",
       "    </tr>\n",
       "    <tr>\n",
       "      <th>2019-10-25</th>\n",
       "      <td>2</td>\n",
       "      <td>NaN</td>\n",
       "    </tr>\n",
       "    <tr>\n",
       "      <th>2019-10-27</th>\n",
       "      <td>465</td>\n",
       "      <td>4.0</td>\n",
       "    </tr>\n",
       "  </tbody>\n",
       "</table>\n",
       "</div>"
      ],
      "text/plain": [
       "            Download  Upload\n",
       "Date                        \n",
       "2019-10-22       255     4.0\n",
       "2019-10-23       356     3.0\n",
       "2019-10-24       394     5.0\n",
       "2019-10-25         2     NaN\n",
       "2019-10-27       465     4.0"
      ]
     },
     "execution_count": 109,
     "metadata": {},
     "output_type": "execute_result"
    }
   ],
   "source": [
    "upld_dnld_data.head()"
   ]
  },
  {
   "cell_type": "code",
   "execution_count": 5,
   "metadata": {},
   "outputs": [
    {
     "data": {
      "image/png": "[encoded data removed]",
      "text/plain": [
       "<Figure size 432x288 with 1 Axes>"
      ]
     },
     "metadata": {
      "needs_background": "light"
     },
     "output_type": "display_data"
    }
   ],
   "source": [
    "import matplotlib.pyplot as plt\n",
    "\n",
    "upld_dnld_data.plot( y=['Upload', 'Download'])\n",
    "plt.ylabel('No of files')\n",
    "# data_date = data['Time'].dt.date.unique()[0]  \n",
    "plt.xticks(rotation = 70)\n",
    "# plt.title (data_date)\n",
    "plt.show()"
   ]
  },
  {
   "cell_type": "code",
   "execution_count": 6,
   "metadata": {},
   "outputs": [
    {
     "data": {
      "image/png": "[encoded data removed]",
      "text/plain": [
       "<Figure size 432x288 with 1 Axes>"
      ]
     },
     "metadata": {
      "needs_background": "light"
     },
     "output_type": "display_data"
    }
   ],
   "source": [
    "import datetime \n",
    "import numpy as np\n",
    "\n",
    "# upld_dnld_data.loc[np.datetime64('2021-06-01'): np.datetime64('2021-10-31')].plot()\n",
    "upld_dnld_data.loc[np.datetime64('2021-10-01'): np.datetime64('2021-10-31')].plot()\n",
    "\n",
    "plt.ylabel('No of files')\n",
    "plt.xticks(rotation = 70)\n",
    "plt.title ('Upload/Download ACH files')\n",
    "plt.show()\n"
   ]
  },
  {
   "cell_type": "code",
   "execution_count": 11,
   "metadata": {},
   "outputs": [
    {
     "data": {
      "text/html": [
       "<div>\n",
       "<style scoped>\n",
       "    .dataframe tbody tr th:only-of-type {\n",
       "        vertical-align: middle;\n",
       "    }\n",
       "\n",
       "    .dataframe tbody tr th {\n",
       "        vertical-align: top;\n",
       "    }\n",
       "\n",
       "    .dataframe thead th {\n",
       "        text-align: right;\n",
       "    }\n",
       "</style>\n",
       "<table border=\"1\" class=\"dataframe\">\n",
       "  <thead>\n",
       "    <tr style=\"text-align: right;\">\n",
       "      <th></th>\n",
       "      <th>Unnamed: 0</th>\n",
       "      <th>Time</th>\n",
       "      <th>File</th>\n",
       "      <th>Action</th>\n",
       "      <th>Status</th>\n",
       "    </tr>\n",
       "  </thead>\n",
       "  <tbody>\n",
       "    <tr>\n",
       "      <th>0</th>\n",
       "      <td>0</td>\n",
       "      <td>2021-10-17 00:00:06</td>\n",
       "      <td>NaN</td>\n",
       "      <td>Open</td>\n",
       "      <td>NaN</td>\n",
       "    </tr>\n",
       "    <tr>\n",
       "      <th>1</th>\n",
       "      <td>1</td>\n",
       "      <td>2021-10-17 00:18:49</td>\n",
       "      <td>29_PACS008_20211017001841390062.xml</td>\n",
       "      <td>Downloading</td>\n",
       "      <td>......</td>\n",
       "    </tr>\n",
       "    <tr>\n",
       "      <th>2</th>\n",
       "      <td>2</td>\n",
       "      <td>2021-10-17 00:18:49</td>\n",
       "      <td>29_PACS008_20211017001841390062.xml</td>\n",
       "      <td>Downloading</td>\n",
       "      <td>Completed</td>\n",
       "    </tr>\n",
       "    <tr>\n",
       "      <th>3</th>\n",
       "      <td>3</td>\n",
       "      <td>2021-10-17 00:18:50</td>\n",
       "      <td>29_PACS002_20211017001841421057_S.xml</td>\n",
       "      <td>Downloading</td>\n",
       "      <td>......</td>\n",
       "    </tr>\n",
       "    <tr>\n",
       "      <th>4</th>\n",
       "      <td>4</td>\n",
       "      <td>2021-10-17 00:18:50</td>\n",
       "      <td>29_PACS002_20211017001841421057_S.xml</td>\n",
       "      <td>Downloading</td>\n",
       "      <td>Completed</td>\n",
       "    </tr>\n",
       "  </tbody>\n",
       "</table>\n",
       "</div>"
      ],
      "text/plain": [
       "   Unnamed: 0                Time                                   File  \\\n",
       "0           0 2021-10-17 00:00:06                                    NaN   \n",
       "1           1 2021-10-17 00:18:49    29_PACS008_20211017001841390062.xml   \n",
       "2           2 2021-10-17 00:18:49    29_PACS008_20211017001841390062.xml   \n",
       "3           3 2021-10-17 00:18:50  29_PACS002_20211017001841421057_S.xml   \n",
       "4           4 2021-10-17 00:18:50  29_PACS002_20211017001841421057_S.xml   \n",
       "\n",
       "        Action     Status  \n",
       "0         Open        NaN  \n",
       "1  Downloading     ......  \n",
       "2  Downloading  Completed  \n",
       "3  Downloading     ......  \n",
       "4  Downloading  Completed  "
      ]
     },
     "execution_count": 11,
     "metadata": {},
     "output_type": "execute_result"
    }
   ],
   "source": [
    "data.head()"
   ]
  },
  {
   "cell_type": "code",
   "execution_count": 51,
   "metadata": {},
   "outputs": [
    {
     "data": {
      "text/html": [
       "<div>\n",
       "<style scoped>\n",
       "    .dataframe tbody tr th:only-of-type {\n",
       "        vertical-align: middle;\n",
       "    }\n",
       "\n",
       "    .dataframe tbody tr th {\n",
       "        vertical-align: top;\n",
       "    }\n",
       "\n",
       "    .dataframe thead th {\n",
       "        text-align: right;\n",
       "    }\n",
       "</style>\n",
       "<table border=\"1\" class=\"dataframe\">\n",
       "  <thead>\n",
       "    <tr style=\"text-align: right;\">\n",
       "      <th></th>\n",
       "      <th>Time</th>\n",
       "    </tr>\n",
       "  </thead>\n",
       "  <tbody>\n",
       "    <tr>\n",
       "      <th>2</th>\n",
       "      <td>2021-10-17 00:18:49</td>\n",
       "    </tr>\n",
       "    <tr>\n",
       "      <th>4</th>\n",
       "      <td>2021-10-17 00:18:50</td>\n",
       "    </tr>\n",
       "    <tr>\n",
       "      <th>6</th>\n",
       "      <td>2021-10-17 00:18:59</td>\n",
       "    </tr>\n",
       "    <tr>\n",
       "      <th>8</th>\n",
       "      <td>2021-10-17 00:18:59</td>\n",
       "    </tr>\n",
       "    <tr>\n",
       "      <th>10</th>\n",
       "      <td>2021-10-17 00:18:59</td>\n",
       "    </tr>\n",
       "    <tr>\n",
       "      <th>...</th>\n",
       "      <td>...</td>\n",
       "    </tr>\n",
       "    <tr>\n",
       "      <th>3724159</th>\n",
       "      <td>2020-12-31 20:32:19</td>\n",
       "    </tr>\n",
       "    <tr>\n",
       "      <th>3724161</th>\n",
       "      <td>2020-12-31 20:32:21</td>\n",
       "    </tr>\n",
       "    <tr>\n",
       "      <th>3724163</th>\n",
       "      <td>2020-12-31 20:32:21</td>\n",
       "    </tr>\n",
       "    <tr>\n",
       "      <th>3724165</th>\n",
       "      <td>2020-12-31 20:32:22</td>\n",
       "    </tr>\n",
       "    <tr>\n",
       "      <th>3724167</th>\n",
       "      <td>2020-12-31 20:32:22</td>\n",
       "    </tr>\n",
       "  </tbody>\n",
       "</table>\n",
       "<p>1277512 rows × 1 columns</p>\n",
       "</div>"
      ],
      "text/plain": [
       "                       Time\n",
       "2       2021-10-17 00:18:49\n",
       "4       2021-10-17 00:18:50\n",
       "6       2021-10-17 00:18:59\n",
       "8       2021-10-17 00:18:59\n",
       "10      2021-10-17 00:18:59\n",
       "...                     ...\n",
       "3724159 2020-12-31 20:32:19\n",
       "3724161 2020-12-31 20:32:21\n",
       "3724163 2020-12-31 20:32:21\n",
       "3724165 2020-12-31 20:32:22\n",
       "3724167 2020-12-31 20:32:22\n",
       "\n",
       "[1277512 rows x 1 columns]"
      ]
     },
     "execution_count": 51,
     "metadata": {},
     "output_type": "execute_result"
    }
   ],
   "source": [
    "data[['Time']].loc[data['Status'] == 'Completed']"
   ]
  },
  {
   "cell_type": "code",
   "execution_count": 68,
   "metadata": {},
   "outputs": [
    {
     "ename": "TypeError",
     "evalue": "first argument must be an iterable of pandas objects, you passed an object of type \"DataFrame\"",
     "output_type": "error",
     "traceback": [
      "\u001b[1;31m---------------------------------------------------------------------------\u001b[0m",
      "\u001b[1;31mTypeError\u001b[0m                                 Traceback (most recent call last)",
      "\u001b[1;32m~\\AppData\\Local\\Temp/ipykernel_5048/268566760.py\u001b[0m in \u001b[0;36m<module>\u001b[1;34m\u001b[0m\n\u001b[0;32m      5\u001b[0m \u001b[0mend\u001b[0m\u001b[1;33m\u001b[0m\u001b[1;33m\u001b[0m\u001b[0m\n\u001b[0;32m      6\u001b[0m \u001b[1;31m# dnld_time = start.join(end, on=['File'] )\u001b[0m\u001b[1;33m\u001b[0m\u001b[1;33m\u001b[0m\u001b[1;33m\u001b[0m\u001b[0m\n\u001b[1;32m----> 7\u001b[1;33m \u001b[0mdnld_time\u001b[0m \u001b[1;33m=\u001b[0m \u001b[0mpd\u001b[0m\u001b[1;33m.\u001b[0m\u001b[0mconcat\u001b[0m\u001b[1;33m(\u001b[0m\u001b[0mstart\u001b[0m\u001b[1;33m,\u001b[0m \u001b[0mend\u001b[0m \u001b[1;33m)\u001b[0m\u001b[1;33m\u001b[0m\u001b[1;33m\u001b[0m\u001b[0m\n\u001b[0m\u001b[0;32m      8\u001b[0m \u001b[1;31m# dnld_time.head()\u001b[0m\u001b[1;33m\u001b[0m\u001b[1;33m\u001b[0m\u001b[1;33m\u001b[0m\u001b[0m\n",
      "\u001b[1;32m~\\AppData\\Local\\Programs\\Python\\Python39\\lib\\site-packages\\pandas\\core\\reshape\\concat.py\u001b[0m in \u001b[0;36mconcat\u001b[1;34m(objs, axis, join, ignore_index, keys, levels, names, verify_integrity, sort, copy)\u001b[0m\n\u001b[0;32m    283\u001b[0m     \u001b[0mValueError\u001b[0m\u001b[1;33m:\u001b[0m \u001b[0mIndexes\u001b[0m \u001b[0mhave\u001b[0m \u001b[0moverlapping\u001b[0m \u001b[0mvalues\u001b[0m\u001b[1;33m:\u001b[0m \u001b[1;33m[\u001b[0m\u001b[1;34m'a'\u001b[0m\u001b[1;33m]\u001b[0m\u001b[1;33m\u001b[0m\u001b[1;33m\u001b[0m\u001b[0m\n\u001b[0;32m    284\u001b[0m     \"\"\"\n\u001b[1;32m--> 285\u001b[1;33m     op = _Concatenator(\n\u001b[0m\u001b[0;32m    286\u001b[0m         \u001b[0mobjs\u001b[0m\u001b[1;33m,\u001b[0m\u001b[1;33m\u001b[0m\u001b[1;33m\u001b[0m\u001b[0m\n\u001b[0;32m    287\u001b[0m         \u001b[0maxis\u001b[0m\u001b[1;33m=\u001b[0m\u001b[0maxis\u001b[0m\u001b[1;33m,\u001b[0m\u001b[1;33m\u001b[0m\u001b[1;33m\u001b[0m\u001b[0m\n",
      "\u001b[1;32m~\\AppData\\Local\\Programs\\Python\\Python39\\lib\\site-packages\\pandas\\core\\reshape\\concat.py\u001b[0m in \u001b[0;36m__init__\u001b[1;34m(self, objs, axis, join, keys, levels, names, ignore_index, verify_integrity, copy, sort)\u001b[0m\n\u001b[0;32m    318\u001b[0m     ):\n\u001b[0;32m    319\u001b[0m         \u001b[1;32mif\u001b[0m \u001b[0misinstance\u001b[0m\u001b[1;33m(\u001b[0m\u001b[0mobjs\u001b[0m\u001b[1;33m,\u001b[0m \u001b[1;33m(\u001b[0m\u001b[0mABCSeries\u001b[0m\u001b[1;33m,\u001b[0m \u001b[0mABCDataFrame\u001b[0m\u001b[1;33m,\u001b[0m \u001b[0mstr\u001b[0m\u001b[1;33m)\u001b[0m\u001b[1;33m)\u001b[0m\u001b[1;33m:\u001b[0m\u001b[1;33m\u001b[0m\u001b[1;33m\u001b[0m\u001b[0m\n\u001b[1;32m--> 320\u001b[1;33m             raise TypeError(\n\u001b[0m\u001b[0;32m    321\u001b[0m                 \u001b[1;34m\"first argument must be an iterable of pandas \"\u001b[0m\u001b[1;33m\u001b[0m\u001b[1;33m\u001b[0m\u001b[0m\n\u001b[0;32m    322\u001b[0m                 \u001b[1;34mf'objects, you passed an object of type \"{type(objs).__name__}\"'\u001b[0m\u001b[1;33m\u001b[0m\u001b[1;33m\u001b[0m\u001b[0m\n",
      "\u001b[1;31mTypeError\u001b[0m: first argument must be an iterable of pandas objects, you passed an object of type \"DataFrame\""
     ]
    }
   ],
   "source": [
    "start = data[['Time','File']].loc[data['Status'] == '......']\n",
    "end = data[['Time','File']].loc[data['Status'] == 'Completed']\n",
    "end.columns =['End', 'File']\n",
    "# start\n",
    "end\n",
    "# dnld_time = start.join(end, on=['File'] )\n",
    "dnld_time = pd.concat(start, end )\n",
    "# dnld_time.head()"
   ]
  }
 ],
 "metadata": {
  "interpreter": {
   "hash": "b1f41cb96c8c648ba691ae605b3523f469256e61c0ccb2c97fce768d5e19ec3e"
  },
  "kernelspec": {
   "display_name": "Python 3.9.0 64-bit",
   "name": "python3"
  },
  "language_info": {
   "codemirror_mode": {
    "name": "ipython",
    "version": 3
   },
   "file_extension": ".py",
   "mimetype": "text/x-python",
   "name": "python",
   "nbconvert_exporter": "python",
   "pygments_lexer": "ipython3",
   "version": "3.9.0"
  },
  "orig_nbformat": 4
 },
 "nbformat": 4,
 "nbformat_minor": 2
}

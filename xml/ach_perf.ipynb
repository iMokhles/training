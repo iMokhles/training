{
 "cells": [
  {
   "cell_type": "code",
   "execution_count": 210,
   "metadata": {},
   "outputs": [],
   "source": [
    "import pandas as pd\n",
    "\n",
    "ach_log_file = r\"C:\\Yahia\\Home\\Yahia-Dev\\Python\\training\\xml\\performance\\SystemLog\\SystemLog\\Log10172021.txt\"\n",
    "timex = []\n",
    "files = []\n",
    "actions=[]\n",
    "status = []\n",
    "line_no = 1\n",
    "with open(ach_log_file, 'rt') as f:\n",
    "    while(True):\n",
    "        line = f.readline()\n",
    "        if not line:\n",
    "            break\n",
    "        \n",
    "        try:\n",
    "            x = line.split('::::')\n",
    "            fdt_time = x[0] \n",
    "            action = x[1].split()[0]\n",
    "        except:\n",
    "            # print (line_no, 'error parsing action:', line)\n",
    "            action = '***'\n",
    "            fdt_time = ''\n",
    "\n",
    "        ls = line.split('\"')\n",
    "        if len(ls) > 1:\n",
    "            file_name = ls[1]\n",
    "            ls = ls[2].split()\n",
    "            download_status = ls[0] if len(ls) > 0 else ''\n",
    "        else:\n",
    "            file_name = ''\n",
    "            download_status = ''\n",
    "        # print(line_no, '- ', fdt_time, '----',action, '***', file_name)\n",
    "        timex.append(fdt_time)\n",
    "        files.append(file_name)\n",
    "        actions.append(action)\n",
    "        status.append(download_status)\n",
    "        line_no += 1\n",
    "        # timex.append(x)\n",
    "        # time_str.append(ftime)\n",
    "       "
   ]
  },
  {
   "cell_type": "code",
   "execution_count": 211,
   "metadata": {},
   "outputs": [],
   "source": [
    "data1={ 'Time':timex,\n",
    "        'File': files,\n",
    "        'Action':actions,\n",
    "        'Status': status\n",
    "}\n",
    "data = pd.DataFrame(data1)\n",
    "data['Time'] = pd.to_datetime(data['Time'])"
   ]
  },
  {
   "cell_type": "code",
   "execution_count": 213,
   "metadata": {},
   "outputs": [
    {
     "data": {
      "image/png": "[encoded data removed]",
      "text/plain": [
       "<Figure size 432x288 with 1 Axes>"
      ]
     },
     "metadata": {
      "needs_background": "light"
     },
     "output_type": "display_data"
    }
   ],
   "source": [
    "import matplotlib.pyplot as plt\n",
    "d = data.loc [data['Action'] == 'Downloading']\n",
    "d= d[d['Status'] == 'Completed']\n",
    "d['Hour']= d['Time'].dt.hour \n",
    "x = d.groupby(['Hour']).count()['File']\n",
    "d = pd.DataFrame(x)\n",
    "d = d.rename(columns={'File':'Download'})\n",
    "\n",
    "u = data.loc [data['Action'] == 'Uploading']\n",
    "u= u[u['Status'] == 'Completed']\n",
    "u['Hour']= u['Time'].dt.hour \n",
    "x = u.groupby(['Hour']).count()['File']\n",
    "u = pd.DataFrame(x)\n",
    "u=u.rename(columns={'File':'Upload'})\n",
    "all = d.join(u, on='Hour')\n",
    "\n",
    "all.plot( y=['Upload', 'Download'])\n",
    "plt.ylabel('No of files')\n",
    "data_date = data['Time'].dt.date.unique()[0]\n",
    "plt.title (data_date)\n",
    "plt.show()\n",
    "\n"
   ]
  },
  {
   "cell_type": "code",
   "execution_count": 216,
   "metadata": {},
   "outputs": [],
   "source": [
    "import os\n",
    "ach_log_dir = r\"C:\\Yahia\\Home\\Yahia-Dev\\Python\\training\\xml\\performance\\SystemLog\\SystemLog\"\n",
    "for f in os.listdir(ach_log_dir):\n",
    "    with open(os.path.join(ach_log_dir,f), 'rt') as f:\n",
    "        while(True):\n",
    "            line = f.readline()\n",
    "            if not line:\n",
    "                break\n",
    "            \n",
    "            try:\n",
    "                x = line.split('::::')\n",
    "                fdt_time = x[0] \n",
    "                action = x[1].split()[0]\n",
    "            except:\n",
    "                # print (line_no, 'error parsing action:', line)\n",
    "                action = '***'\n",
    "                fdt_time = ''\n",
    "\n",
    "            ls = line.split('\"')\n",
    "            if len(ls) > 1:\n",
    "                file_name = ls[1]\n",
    "                ls = ls[2].split()\n",
    "                download_status = ls[0] if len(ls) > 0 else ''\n",
    "            else:\n",
    "                file_name = ''\n",
    "                download_status = ''\n",
    "            # print(line_no, '- ', fdt_time, '----',action, '***', file_name)\n",
    "            timex.append(fdt_time)\n",
    "            files.append(file_name)\n",
    "            actions.append(action)\n",
    "            status.append(download_status)\n",
    "            line_no += 1"
   ]
  },
  {
   "cell_type": "code",
   "execution_count": 217,
   "metadata": {},
   "outputs": [],
   "source": [
    "data1={ 'Time':timex,\n",
    "        'File': files,\n",
    "        'Action':actions,\n",
    "        'Status': status\n",
    "}\n",
    "data = pd.DataFrame(data1)\n",
    "data['Time'] = pd.to_datetime(data['Time'])"
   ]
  },
  {
   "cell_type": "code",
   "execution_count": 218,
   "metadata": {},
   "outputs": [],
   "source": [
    "data.to_csv(r'.\\out\\ach_log_data_all.csv')"
   ]
  },
  {
   "cell_type": "code",
   "execution_count": null,
   "metadata": {},
   "outputs": [],
   "source": [
    "data = pd.read_csv(r'.\\out\\ach_log_data_all.csv')"
   ]
  },
  {
   "cell_type": "code",
   "execution_count": 222,
   "metadata": {},
   "outputs": [
    {
     "data": {
      "image/png": "[encoded data removed]",
      "text/plain": [
       "<Figure size 432x288 with 1 Axes>"
      ]
     },
     "metadata": {
      "needs_background": "light"
     },
     "output_type": "display_data"
    }
   ],
   "source": [
    "import matplotlib.pyplot as plt\n",
    "d = data.loc [data['Action'] == 'Downloading']\n",
    "d= d[d['Status'] == 'Completed']\n",
    "d['Date']= d['Time'].dt.date \n",
    "x = d.groupby(['Date']).count()['File']\n",
    "d = pd.DataFrame(x)\n",
    "d = d.rename(columns={'File':'Download'})\n",
    "\n",
    "u = data.loc [data['Action'] == 'Uploading']\n",
    "u= u[u['Status'] == 'Completed']\n",
    "u['Date']= u['Time'].dt.date \n",
    "x = u.groupby(['Date']).count()['File']\n",
    "u = pd.DataFrame(x)\n",
    "u=u.rename(columns={'File':'Upload'})\n",
    "all = d.join(u, on='Date')\n",
    "\n",
    "all.plot( y=['Upload', 'Download'])\n",
    "plt.ylabel('No of files')\n",
    "# data_date = data['Time'].dt.date.unique()[0]\n",
    "plt.xticks(rotation = 70)\n",
    "# plt.title (data_date)\n",
    "plt.show()"
   ]
  },
  {
   "cell_type": "code",
   "execution_count": 247,
   "metadata": {},
   "outputs": [
    {
     "data": {
      "text/html": [
       "<div>\n",
       "<style scoped>\n",
       "    .dataframe tbody tr th:only-of-type {\n",
       "        vertical-align: middle;\n",
       "    }\n",
       "\n",
       "    .dataframe tbody tr th {\n",
       "        vertical-align: top;\n",
       "    }\n",
       "\n",
       "    .dataframe thead th {\n",
       "        text-align: right;\n",
       "    }\n",
       "</style>\n",
       "<table border=\"1\" class=\"dataframe\">\n",
       "  <thead>\n",
       "    <tr style=\"text-align: right;\">\n",
       "      <th></th>\n",
       "      <th>Download</th>\n",
       "      <th>Upload</th>\n",
       "    </tr>\n",
       "    <tr>\n",
       "      <th>Date</th>\n",
       "      <th></th>\n",
       "      <th></th>\n",
       "    </tr>\n",
       "  </thead>\n",
       "  <tbody>\n",
       "    <tr>\n",
       "      <th>2019-10-22</th>\n",
       "      <td>255</td>\n",
       "      <td>4.0</td>\n",
       "    </tr>\n",
       "    <tr>\n",
       "      <th>2019-10-23</th>\n",
       "      <td>356</td>\n",
       "      <td>3.0</td>\n",
       "    </tr>\n",
       "    <tr>\n",
       "      <th>2019-10-24</th>\n",
       "      <td>394</td>\n",
       "      <td>5.0</td>\n",
       "    </tr>\n",
       "    <tr>\n",
       "      <th>2019-10-25</th>\n",
       "      <td>2</td>\n",
       "      <td>NaN</td>\n",
       "    </tr>\n",
       "    <tr>\n",
       "      <th>2019-10-27</th>\n",
       "      <td>465</td>\n",
       "      <td>4.0</td>\n",
       "    </tr>\n",
       "    <tr>\n",
       "      <th>...</th>\n",
       "      <td>...</td>\n",
       "      <td>...</td>\n",
       "    </tr>\n",
       "    <tr>\n",
       "      <th>2021-10-21</th>\n",
       "      <td>238</td>\n",
       "      <td>9.0</td>\n",
       "    </tr>\n",
       "    <tr>\n",
       "      <th>2021-10-22</th>\n",
       "      <td>3</td>\n",
       "      <td>NaN</td>\n",
       "    </tr>\n",
       "    <tr>\n",
       "      <th>2021-10-23</th>\n",
       "      <td>8</td>\n",
       "      <td>2.0</td>\n",
       "    </tr>\n",
       "    <tr>\n",
       "      <th>2021-10-24</th>\n",
       "      <td>1446</td>\n",
       "      <td>301.0</td>\n",
       "    </tr>\n",
       "    <tr>\n",
       "      <th>2021-10-25</th>\n",
       "      <td>350</td>\n",
       "      <td>109.0</td>\n",
       "    </tr>\n",
       "  </tbody>\n",
       "</table>\n",
       "<p>716 rows × 2 columns</p>\n",
       "</div>"
      ],
      "text/plain": [
       "            Download  Upload\n",
       "Date                        \n",
       "2019-10-22       255     4.0\n",
       "2019-10-23       356     3.0\n",
       "2019-10-24       394     5.0\n",
       "2019-10-25         2     NaN\n",
       "2019-10-27       465     4.0\n",
       "...              ...     ...\n",
       "2021-10-21       238     9.0\n",
       "2021-10-22         3     NaN\n",
       "2021-10-23         8     2.0\n",
       "2021-10-24      1446   301.0\n",
       "2021-10-25       350   109.0\n",
       "\n",
       "[716 rows x 2 columns]"
      ]
     },
     "execution_count": 247,
     "metadata": {},
     "output_type": "execute_result"
    }
   ],
   "source": [
    "all.head()\n",
    "# one_month = all.loc[all['Date'].dt.month]# == '2021-09']\n",
    "# all.columns\n",
    "x = all.index\n",
    "x = all.loc[x]\n",
    "# all['Date']\n",
    "x"
   ]
  }
 ],
 "metadata": {
  "interpreter": {
   "hash": "b1f41cb96c8c648ba691ae605b3523f469256e61c0ccb2c97fce768d5e19ec3e"
  },
  "kernelspec": {
   "display_name": "Python 3.9.0 64-bit",
   "name": "python3"
  },
  "language_info": {
   "codemirror_mode": {
    "name": "ipython",
    "version": 3
   },
   "file_extension": ".py",
   "mimetype": "text/x-python",
   "name": "python",
   "nbconvert_exporter": "python",
   "pygments_lexer": "ipython3",
   "version": "3.9.0"
  },
  "orig_nbformat": 4
 },
 "nbformat": 4,
 "nbformat_minor": 2
}
